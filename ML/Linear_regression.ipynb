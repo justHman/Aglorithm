{
  "cells": [
    {
      "cell_type": "code",
      "execution_count": 20,
      "metadata": {
        "id": "Fduqfa5pkdVx"
      },
      "outputs": [],
      "source": [
        "import numpy as np"
      ]
    },
    {
      "cell_type": "code",
      "execution_count": 78,
      "metadata": {
        "id": "gVAlsbCEjOwk"
      },
      "outputs": [],
      "source": [
        "class LinearRegression():\n",
        "  def __init__(self):\n",
        "    self.w = None\n",
        "    self.b = None\n",
        "\n",
        "  def fit(self, x_train, y_train, lr=0.001, epochs=1000):\n",
        "    row, col = x_train.shape\n",
        "    self.w = np.random.rand(col)\n",
        "    self.b = np.random.rand()\n",
        "    for epoch in range(epochs):\n",
        "      y_pred = self.predict(x_train)\n",
        "      dw = (-2/row) * np.dot(x_train.T, (y_train - y_pred))\n",
        "      db = (-2/row) * np.sum(y_train - y_pred)\n",
        "      self.w = self.w - lr * dw\n",
        "      self.b = self.b - lr * db\n",
        "\n",
        "  def predict(self, x_test):\n",
        "    return x_test @ self.w + self.b"
      ]
    },
    {
      "cell_type": "code",
      "execution_count": 79,
      "metadata": {
        "colab": {
          "base_uri": "https://localhost:8080/"
        },
        "id": "5sgg9Jx_tJnQ",
        "outputId": "798c5514-79df-4758-bdf3-f9296b353fde"
      },
      "outputs": [
        {
          "name": "stdout",
          "output_type": "stream",
          "text": [
            "(100, 2)\n",
            "(100,)\n",
            "x (50, 2)\n",
            "Hệ số hồi quy (w): [0.95486528 0.73789692]\n",
            "Hệ số chặn (b): [0.55435405]\n"
          ]
        }
      ],
      "source": [
        "np.random.seed(42)\n",
        "X = 2 * np.random.rand(100, 2)  # Biến độc lập với 2 đặc trưng\n",
        "y = 4 + 3 * X[:, 0] + 2 * X[:, 1] + np.random.randn(100)  # Biến phụ thuộc với noise\n",
        "print(X.shape)\n",
        "print(y.shape)\n",
        "\n",
        "# Huấn luyện mô hình\n",
        "model = LinearRegression()\n",
        "model.fit(X, y)\n",
        "\n",
        "# Dự đoán\n",
        "X_test = np.linspace(0, 2, 100).reshape(-1, 2)\n",
        "print('x', X_test.shape)\n",
        "y_pred = model.predict(X_test)\n",
        "\n",
        "# In hệ số hồi quy\n",
        "print(f'Hệ số hồi quy (w): {model.w}')\n",
        "print(f'Hệ số chặn (b): {model.b}')"
      ]
    },
    {
      "cell_type": "code",
      "execution_count": 45,
      "metadata": {
        "colab": {
          "base_uri": "https://localhost:8080/"
        },
        "id": "MdEtEuPWu3ed",
        "outputId": "b6102a6c-c852-4a00-fbbf-176be226badf"
      },
      "outputs": [
        {
          "name": "stdout",
          "output_type": "stream",
          "text": [
            "[[2 3 4]\n",
            " [4 5 6]]\n"
          ]
        }
      ],
      "source": [
        "import numpy as np\n",
        "a = 1 + np.array([[1, 2, 3],\n",
        "                  [3, 4, 5]])\n",
        "print(a)"
      ]
    },
    {
      "cell_type": "code",
      "execution_count": 65,
      "metadata": {
        "colab": {
          "base_uri": "https://localhost:8080/"
        },
        "id": "4bBMr0dU6sbF",
        "outputId": "dc6c5fe2-0132-4081-da9b-e0db841473bd"
      },
      "outputs": [
        {
          "name": "stdout",
          "output_type": "stream",
          "text": [
            "[0.09444296 0.68300677 0.07118865 0.31897563 0.84487531]\n",
            "[[0.02327194]\n",
            " [0.81446848]\n",
            " [0.28185477]\n",
            " [0.11816483]\n",
            " [0.69673717]]\n",
            "(1,)\n",
            "[1.20489795]\n"
          ]
        }
      ],
      "source": [
        "a = np.random.rand(5)\n",
        "b = np.random.rand(5, 1)\n",
        "c = a @ b\n",
        "print(a)\n",
        "print(b)\n",
        "print(c.shape)\n",
        "print(c)"
      ]
    }
  ],
  "metadata": {
    "colab": {
      "provenance": []
    },
    "kernelspec": {
      "display_name": "Python 3",
      "name": "python3"
    },
    "language_info": {
      "name": "python"
    }
  },
  "nbformat": 4,
  "nbformat_minor": 0
}
